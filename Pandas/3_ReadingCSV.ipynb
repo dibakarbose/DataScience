{
 "cells": [
  {
   "cell_type": "code",
   "execution_count": 1,
   "metadata": {
    "collapsed": true
   },
   "outputs": [],
   "source": [
    "import pandas as pd"
   ]
  },
  {
   "cell_type": "code",
   "execution_count": 2,
   "metadata": {},
   "outputs": [
    {
     "name": "stdout",
     "output_type": "stream",
     "text": [
      "         Date  Value\n",
      "0  2017-12-31  110.0\n",
      "1  2017-11-30  108.0\n",
      "2  2017-10-31  108.0\n",
      "3  2017-09-30  106.0\n",
      "4  2017-08-31  104.0\n"
     ]
    }
   ],
   "source": [
    "#Reading CSV file from local directory\n",
    "#This free data has been downloaded from Quandl\n",
    "df=pd.read_csv('ZILLOW-CO2259_IMP.csv')\n",
    "print(df.head())"
   ]
  },
  {
   "cell_type": "code",
   "execution_count": 3,
   "metadata": {
    "collapsed": true
   },
   "outputs": [],
   "source": [
    "#From above we can see that we don't have any decent index.\n",
    "#So we will make date as the index here\n",
    "df.set_index('Date',inplace=True)"
   ]
  },
  {
   "cell_type": "code",
   "execution_count": 4,
   "metadata": {},
   "outputs": [
    {
     "name": "stdout",
     "output_type": "stream",
     "text": [
      "            Value\n",
      "Date             \n",
      "2017-12-31  110.0\n",
      "2017-11-30  108.0\n",
      "2017-10-31  108.0\n",
      "2017-09-30  106.0\n",
      "2017-08-31  104.0\n"
     ]
    }
   ],
   "source": [
    "print(df.head())"
   ]
  },
  {
   "cell_type": "code",
   "execution_count": 5,
   "metadata": {
    "collapsed": true
   },
   "outputs": [],
   "source": [
    "#If we want to change the DataFrame back to a CSV\n",
    "df.to_csv('new_csv.csv')"
   ]
  },
  {
   "cell_type": "code",
   "execution_count": 6,
   "metadata": {
    "collapsed": true
   },
   "outputs": [],
   "source": [
    "#If we want only single columns to be in new CSV \n",
    "df['Value'].to_csv('new_csv1.csv')"
   ]
  },
  {
   "cell_type": "code",
   "execution_count": 7,
   "metadata": {},
   "outputs": [
    {
     "name": "stdout",
     "output_type": "stream",
     "text": [
      "            Value\n",
      "Date             \n",
      "2017-12-31  110.0\n",
      "2017-11-30  108.0\n",
      "2017-10-31  108.0\n",
      "2017-09-30  106.0\n",
      "2017-08-31  104.0\n"
     ]
    }
   ],
   "source": [
    "#Now if we read our new CSV we will see that our index is gone again.\n",
    "#We can make the date as our index while importing the file itself\n",
    "df=pd.read_csv('new_csv.csv',index_col=0)\n",
    "print(df.head())"
   ]
  },
  {
   "cell_type": "code",
   "execution_count": 8,
   "metadata": {},
   "outputs": [
    {
     "name": "stdout",
     "output_type": "stream",
     "text": [
      "            House_Prices\n",
      "Date                    \n",
      "2017-12-31         110.0\n",
      "2017-11-30         108.0\n",
      "2017-10-31         108.0\n",
      "2017-09-30         106.0\n",
      "2017-08-31         104.0\n"
     ]
    }
   ],
   "source": [
    "#Now we change the column name from 'Value' to 'House Prices'\n",
    "df.columns=['House_Prices']\n",
    "print(df.head())"
   ]
  },
  {
   "cell_type": "code",
   "execution_count": 9,
   "metadata": {
    "collapsed": true
   },
   "outputs": [],
   "source": [
    "df.to_csv('new_csv2.csv')"
   ]
  },
  {
   "cell_type": "code",
   "execution_count": 10,
   "metadata": {
    "collapsed": true
   },
   "outputs": [],
   "source": [
    "#If we want to save our CSV file without headers\n",
    "df.to_csv('new_csv2.csv',header=False)"
   ]
  },
  {
   "cell_type": "code",
   "execution_count": 11,
   "metadata": {},
   "outputs": [
    {
     "name": "stdout",
     "output_type": "stream",
     "text": [
      "            House_Prices\n",
      "Date                    \n",
      "2017-12-31         110.0\n",
      "2017-11-30         108.0\n",
      "2017-10-31         108.0\n",
      "2017-09-30         106.0\n",
      "2017-08-31         104.0\n"
     ]
    }
   ],
   "source": [
    "#Now when we want to import data which doesn't have headers\n",
    "df=pd.read_csv('new_csv2.csv',names=['Date','House_Prices'],index_col=0)\n",
    "print(df.head())"
   ]
  },
  {
   "cell_type": "code",
   "execution_count": 12,
   "metadata": {
    "collapsed": true
   },
   "outputs": [],
   "source": [
    "#Pandas can convert to HTML too\n",
    "df.to_html('example.html')"
   ]
  }
 ],
 "metadata": {
  "kernelspec": {
   "display_name": "Python 3",
   "language": "python",
   "name": "python3"
  },
  "language_info": {
   "codemirror_mode": {
    "name": "ipython",
    "version": 3
   },
   "file_extension": ".py",
   "mimetype": "text/x-python",
   "name": "python",
   "nbconvert_exporter": "python",
   "pygments_lexer": "ipython3",
   "version": "3.6.3"
  }
 },
 "nbformat": 4,
 "nbformat_minor": 2
}
