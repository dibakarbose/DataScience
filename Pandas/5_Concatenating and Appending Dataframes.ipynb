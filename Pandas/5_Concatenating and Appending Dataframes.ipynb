{
 "cells": [
  {
   "cell_type": "code",
   "execution_count": 1,
   "metadata": {
    "collapsed": true
   },
   "outputs": [],
   "source": [
    "import pandas as pd\n",
    "\n",
    "df1 = pd.DataFrame({'HPI':[80,85,88,85],\n",
    "                    'Int_rate':[2, 3, 2, 2],\n",
    "                    'US_GDP_Thousands':[50, 55, 65, 55]},\n",
    "                   index = [2001, 2002, 2003, 2004])\n",
    "\n",
    "df2 = pd.DataFrame({'HPI':[80,85,88,85],\n",
    "                    'Int_rate':[2, 3, 2, 2],\n",
    "                    'US_GDP_Thousands':[50, 55, 65, 55]},\n",
    "                   index = [2005, 2006, 2007, 2008])\n",
    "\n",
    "df3 = pd.DataFrame({'HPI':[80,85,88,85],\n",
    "                    'Int_rate':[2, 3, 2, 2],\n",
    "                    'Low_tier_HPI':[50, 52, 50, 53]},\n",
    "                   index = [2001, 2002, 2003, 2004])\n",
    "\n",
    "#df1 and df3 has same 'index' value but have different columns\n",
    "#df2 and df3 has some same columns and different 'index' values\n",
    "#df1 and df2 has different 'index' value only"
   ]
  },
  {
   "cell_type": "code",
   "execution_count": 2,
   "metadata": {},
   "outputs": [
    {
     "name": "stdout",
     "output_type": "stream",
     "text": [
      "      HPI  Int_rate  US_GDP_Thousands\n",
      "2001   80         2                50\n",
      "2002   85         3                55\n",
      "2003   88         2                65\n",
      "2004   85         2                55\n",
      "2005   80         2                50\n",
      "2006   85         3                55\n",
      "2007   88         2                65\n",
      "2008   85         2                55\n"
     ]
    }
   ],
   "source": [
    "concat=pd.concat([df1,df2])\n",
    "print(concat)"
   ]
  },
  {
   "cell_type": "code",
   "execution_count": 3,
   "metadata": {},
   "outputs": [
    {
     "name": "stdout",
     "output_type": "stream",
     "text": [
      "      HPI  Int_rate  Low_tier_HPI  US_GDP_Thousands\n",
      "2001   80         2           NaN              50.0\n",
      "2002   85         3           NaN              55.0\n",
      "2003   88         2           NaN              65.0\n",
      "2004   85         2           NaN              55.0\n",
      "2005   80         2           NaN              50.0\n",
      "2006   85         3           NaN              55.0\n",
      "2007   88         2           NaN              65.0\n",
      "2008   85         2           NaN              55.0\n",
      "2001   80         2          50.0               NaN\n",
      "2002   85         3          52.0               NaN\n",
      "2003   88         2          50.0               NaN\n",
      "2004   85         2          53.0               NaN\n"
     ]
    }
   ],
   "source": [
    "concat=pd.concat([df1,df2,df3])\n",
    "print(concat)\n",
    "\n",
    "#Some are having NaNs since that 'index' value is not available for that particular dataframe"
   ]
  },
  {
   "cell_type": "code",
   "execution_count": 4,
   "metadata": {},
   "outputs": [
    {
     "name": "stdout",
     "output_type": "stream",
     "text": [
      "      HPI  Int_rate  US_GDP_Thousands\n",
      "2001   80         2                50\n",
      "2002   85         3                55\n",
      "2003   88         2                65\n",
      "2004   85         2                55\n",
      "2005   80         2                50\n",
      "2006   85         3                55\n",
      "2007   88         2                65\n",
      "2008   85         2                55\n"
     ]
    }
   ],
   "source": [
    "#Now we will append df2 to df1\n",
    "df4=df1.append(df2)\n",
    "print(df4)"
   ]
  },
  {
   "cell_type": "markdown",
   "metadata": {},
   "source": [
    "###  Dataframes were not really made to be appended efficiently, they are meant moreso to be manipulated based on their starting data, but you can append if we need to. Let's see what happens when we append data of same index"
   ]
  },
  {
   "cell_type": "code",
   "execution_count": 5,
   "metadata": {},
   "outputs": [
    {
     "name": "stdout",
     "output_type": "stream",
     "text": [
      "      HPI  Int_rate  Low_tier_HPI  US_GDP_Thousands\n",
      "2001   80         2           NaN              50.0\n",
      "2002   85         3           NaN              55.0\n",
      "2003   88         2           NaN              65.0\n",
      "2004   85         2           NaN              55.0\n",
      "2001   80         2          50.0               NaN\n",
      "2002   85         3          52.0               NaN\n",
      "2003   88         2          50.0               NaN\n",
      "2004   85         2          53.0               NaN\n"
     ]
    }
   ],
   "source": [
    "df4 = df1.append(df3)\n",
    "print(df4)"
   ]
  },
  {
   "cell_type": "markdown",
   "metadata": {},
   "source": [
    "### Same index gave us the above table which is really not very useful since we are having so many NaNs. But we can use append if there is a need.\n",
    "\n",
    "### One more example of append is to use a series. We are more likely to append a series rather than a whole dataframe given the nature of append\n",
    "###  A series is basically a single-columned dataframe. A series does have an index, but, if we convert it to a list, it will be just those values. Whenever we say something like df['column'], the return is a series."
   ]
  },
  {
   "cell_type": "code",
   "execution_count": 8,
   "metadata": {},
   "outputs": [
    {
     "name": "stdout",
     "output_type": "stream",
     "text": [
      "   HPI  Int_rate  US_GDP_Thousands\n",
      "0   80         2                50\n",
      "1   85         3                55\n",
      "2   88         2                65\n",
      "3   85         2                55\n",
      "4   80         2                50\n"
     ]
    }
   ],
   "source": [
    "s = pd.Series([80,2,50], index=['HPI','Int_rate','US_GDP_Thousands'])\n",
    "df4 = df1.append(s, ignore_index=True)\n",
    "print(df4)\n",
    "\n",
    "#We have to ignore the index when appending a series, because that is the law, unless the series has a name."
   ]
  }
 ],
 "metadata": {
  "kernelspec": {
   "display_name": "Python 3",
   "language": "python",
   "name": "python3"
  },
  "language_info": {
   "codemirror_mode": {
    "name": "ipython",
    "version": 3
   },
   "file_extension": ".py",
   "mimetype": "text/x-python",
   "name": "python",
   "nbconvert_exporter": "python",
   "pygments_lexer": "ipython3",
   "version": "3.6.3"
  }
 },
 "nbformat": 4,
 "nbformat_minor": 2
}
